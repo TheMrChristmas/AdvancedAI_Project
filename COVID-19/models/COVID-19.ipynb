{
 "cells": [
  {
   "cell_type": "markdown",
   "metadata": {
    "id": "gX-M_UCjm5F6"
   },
   "source": [
    "##### Step 1: Loading the dataset"
   ]
  },
  {
   "cell_type": "code",
   "execution_count": 1,
   "metadata": {
    "colab": {
     "base_uri": "https://localhost:8080/"
    },
    "executionInfo": {
     "elapsed": 31,
     "status": "ok",
     "timestamp": 1745572711702,
     "user": {
      "displayName": "Elias Christmas",
      "userId": "05020824668584987002"
     },
     "user_tz": -120
    },
    "id": "z6UzjSkVhNo9",
    "jupyter": {
     "is_executing": true
    },
    "outputId": "11f64ec5-72a7-44b4-b28d-4ffdfb89fc63"
   },
   "outputs": [
    {
     "name": "stdout",
     "output_type": "stream",
     "text": [
      "    id                                              tweet label\n",
      "0    1  The CDC currently reports 99031 deaths. In gen...  real\n",
      "1    2  States reported 1121 deaths a small rise from ...  real\n",
      "2    3  Politically Correct Woman (Almost) Uses Pandem...  fake\n",
      "3    4  #IndiaFightsCorona: We have 1524 #COVID testin...  real\n",
      "4    5  Populous states can generate large case counts...  real\n",
      "5    6  Covid Act Now found \"on average each person in...  real\n",
      "6    7  If you tested positive for #COVID19 and have n...  real\n",
      "7    8  Obama Calls Trump’s Coronavirus Response A Cha...  fake\n",
      "8    9  ???Clearly, the Obama administration did not l...  fake\n",
      "9   10  Retraction—Hydroxychloroquine or chloroquine w...  fake\n",
      "10  11  Take simple daily precautions to help prevent ...  real\n",
      "11  12  The NBA is poised to restart this month. In Ma...  fake\n",
      "12  13  We just announced that the first participants ...  real\n",
      "13  14  #CoronaVirusUpdates #IndiaFightsCorona More th...  real\n",
      "14  15  Protect yourself and others from #COVID19 when...  real\n",
      "15  16  As of 18 August 2020 8AM till now there have b...  real\n",
      "16  17  Because of Donald Trump's negligence and incom...  fake\n",
      "17  18  #IndiaFightsCorona India continues to scale ne...  real\n",
      "18  19  We just announced that we have shipped vials o...  real\n",
      "19  20  Multiple Facebook posts claim that “Aussies wi...  fake\n",
      "20  21  No Nobel Prize laureate Tasuku Honjo didn't sa...  fake\n",
      "21  22  The NZ COVID Tracker app will remain important...  real\n",
      "22  23  BREAKING NEWS# The president Cryill Ramaphosa ...  fake\n",
      "23  24  We are delighted that 78 high- and upper-middl...  real\n",
      "24  25  Very intriguing possibility that mood changes ...  real\n",
      "25  26  Elon Musck To New Baby; Get A Job Kid! https:/...  fake\n",
      "26  27  _A new alcohol-free sanitizer has been develop...  fake\n",
      "27  28  Just Appendix B gathering all the state orders...  real\n",
      "28  29  Yesterday our laboratories completed 2899 test...  real\n",
      "29  30  Reusing #N95 masks? NIH found vaporized hydrog...  real\n",
      "30  31  .@realDonaldTrump has shifted his focus at dif...  fake\n",
      "31  32  Doctored image of President Donald Trump share...  fake\n",
      "32  33  This #FourthOfJuly weekend if you choose to sp...  real\n",
      "33  34  CDC Recommends Mothers Stop Breastfeeding To B...  fake\n",
      "34  35  Singapore Airlines Haults All Flights Due To C...  fake\n",
      "35  36  Florida Governor Ron DeSantis Botches COVID-19...  fake\n",
      "36  37  We apologise to the Government of Ekiti State ...  real\n",
      "37  38  NYT invented the video of a doctor fighting co...  fake\n",
      "38  39  In May we did not break 30k cases in a day. To...  real\n",
      "39  40  ALERT: Americans With Coronavirus Symptoms Are...  fake\n",
      "40  41  We launched the #COVID19 Solidarity Response F...  real\n",
      "41  42  Football player Cristiano Ronaldo turned all h...  fake\n",
      "42  43  including that there will again be testing of ...  real\n",
      "43  44  I don't want to do a national lockdown again.'...  real\n",
      "44  45  Our daily update is published. States reported...  real\n",
      "45  46  #IndiaFightsCorona New Recoveries in India hav...  real\n",
      "46  47  The top 5 States with high Active Caseload are...  real\n",
      "47  48  There are currently 4927 people in managed iso...  real\n",
      "48  49  Schools are struggling to cope with a lack of ...  real\n",
      "49  50  Scientists at AstraZeneca complain their work ...  fake\n",
      "6420\n"
     ]
    }
   ],
   "source": [
    "import pandas as pd\n",
    "\n",
    "# Load the dataset\n",
    "df = pd.read_csv(\"../data/Constraint_Train.csv\")\n",
    "\n",
    "\n",
    "\n",
    "# If you want to see the first few real tweets\n",
    "print(df.head(50))\n",
    "print(len(df))"
   ]
  },
  {
   "cell_type": "markdown",
   "metadata": {
    "id": "u7a4U6wQmVug"
   },
   "source": [
    "##### Step 2: Preprocess the text\n"
   ]
  },
  {
   "cell_type": "code",
   "execution_count": 2,
   "metadata": {
    "ExecuteTime": {
     "end_time": "2025-05-06T09:35:13.438464900Z",
     "start_time": "2025-04-25T12:01:08.921558Z"
    },
    "executionInfo": {
     "elapsed": 4899,
     "status": "ok",
     "timestamp": 1745572718383,
     "user": {
      "displayName": "Elias Christmas",
      "userId": "05020824668584987002"
     },
     "user_tz": -120
    },
    "id": "3_KV3TnjhisV"
   },
   "outputs": [
    {
     "ename": "KeyboardInterrupt",
     "evalue": "",
     "output_type": "error",
     "traceback": [
      "\u001b[1;31m---------------------------------------------------------------------------\u001b[0m",
      "\u001b[1;31mKeyboardInterrupt\u001b[0m                         Traceback (most recent call last)",
      "Cell \u001b[1;32mIn[2], line 1\u001b[0m\n\u001b[1;32m----> 1\u001b[0m \u001b[38;5;28;01mfrom\u001b[39;00m \u001b[38;5;21;01mtransformers\u001b[39;00m \u001b[38;5;28;01mimport\u001b[39;00m BertTokenizer\n\u001b[0;32m      2\u001b[0m tokenizer \u001b[38;5;241m=\u001b[39m BertTokenizer\u001b[38;5;241m.\u001b[39mfrom_pretrained(\u001b[38;5;124m'\u001b[39m\u001b[38;5;124mbert-base-uncased\u001b[39m\u001b[38;5;124m'\u001b[39m)\n\u001b[0;32m      4\u001b[0m \u001b[38;5;66;03m# Tokenize the texts\u001b[39;00m\n",
      "File \u001b[1;32m<frozen importlib._bootstrap>:1229\u001b[0m, in \u001b[0;36m_handle_fromlist\u001b[1;34m(module, fromlist, import_, recursive)\u001b[0m\n",
      "File \u001b[1;32mc:\\Users\\elias\\AppData\\Local\\Programs\\Python\\Python311\\Lib\\site-packages\\transformers\\utils\\import_utils.py:1851\u001b[0m, in \u001b[0;36m_LazyModule.__getattr__\u001b[1;34m(self, name)\u001b[0m\n\u001b[0;32m   1849\u001b[0m     value \u001b[38;5;241m=\u001b[39m Placeholder\n\u001b[0;32m   1850\u001b[0m \u001b[38;5;28;01melif\u001b[39;00m name \u001b[38;5;129;01min\u001b[39;00m \u001b[38;5;28mself\u001b[39m\u001b[38;5;241m.\u001b[39m_class_to_module\u001b[38;5;241m.\u001b[39mkeys():\n\u001b[1;32m-> 1851\u001b[0m     module \u001b[38;5;241m=\u001b[39m \u001b[38;5;28;43mself\u001b[39;49m\u001b[38;5;241;43m.\u001b[39;49m\u001b[43m_get_module\u001b[49m\u001b[43m(\u001b[49m\u001b[38;5;28;43mself\u001b[39;49m\u001b[38;5;241;43m.\u001b[39;49m\u001b[43m_class_to_module\u001b[49m\u001b[43m[\u001b[49m\u001b[43mname\u001b[49m\u001b[43m]\u001b[49m\u001b[43m)\u001b[49m\n\u001b[0;32m   1852\u001b[0m     value \u001b[38;5;241m=\u001b[39m \u001b[38;5;28mgetattr\u001b[39m(module, name)\n\u001b[0;32m   1853\u001b[0m \u001b[38;5;28;01melif\u001b[39;00m name \u001b[38;5;129;01min\u001b[39;00m \u001b[38;5;28mself\u001b[39m\u001b[38;5;241m.\u001b[39m_modules:\n",
      "File \u001b[1;32mc:\\Users\\elias\\AppData\\Local\\Programs\\Python\\Python311\\Lib\\site-packages\\transformers\\utils\\import_utils.py:1863\u001b[0m, in \u001b[0;36m_LazyModule._get_module\u001b[1;34m(self, module_name)\u001b[0m\n\u001b[0;32m   1861\u001b[0m \u001b[38;5;28;01mdef\u001b[39;00m \u001b[38;5;21m_get_module\u001b[39m(\u001b[38;5;28mself\u001b[39m, module_name: \u001b[38;5;28mstr\u001b[39m):\n\u001b[0;32m   1862\u001b[0m     \u001b[38;5;28;01mtry\u001b[39;00m:\n\u001b[1;32m-> 1863\u001b[0m         \u001b[38;5;28;01mreturn\u001b[39;00m \u001b[43mimportlib\u001b[49m\u001b[38;5;241;43m.\u001b[39;49m\u001b[43mimport_module\u001b[49m\u001b[43m(\u001b[49m\u001b[38;5;124;43m\"\u001b[39;49m\u001b[38;5;124;43m.\u001b[39;49m\u001b[38;5;124;43m\"\u001b[39;49m\u001b[43m \u001b[49m\u001b[38;5;241;43m+\u001b[39;49m\u001b[43m \u001b[49m\u001b[43mmodule_name\u001b[49m\u001b[43m,\u001b[49m\u001b[43m \u001b[49m\u001b[38;5;28;43mself\u001b[39;49m\u001b[38;5;241;43m.\u001b[39;49m\u001b[38;5;18;43m__name__\u001b[39;49m\u001b[43m)\u001b[49m\n\u001b[0;32m   1864\u001b[0m     \u001b[38;5;28;01mexcept\u001b[39;00m \u001b[38;5;167;01mException\u001b[39;00m \u001b[38;5;28;01mas\u001b[39;00m e:\n\u001b[0;32m   1865\u001b[0m         \u001b[38;5;28;01mraise\u001b[39;00m \u001b[38;5;167;01mRuntimeError\u001b[39;00m(\n\u001b[0;32m   1866\u001b[0m             \u001b[38;5;124mf\u001b[39m\u001b[38;5;124m\"\u001b[39m\u001b[38;5;124mFailed to import \u001b[39m\u001b[38;5;132;01m{\u001b[39;00m\u001b[38;5;28mself\u001b[39m\u001b[38;5;241m.\u001b[39m\u001b[38;5;18m__name__\u001b[39m\u001b[38;5;132;01m}\u001b[39;00m\u001b[38;5;124m.\u001b[39m\u001b[38;5;132;01m{\u001b[39;00mmodule_name\u001b[38;5;132;01m}\u001b[39;00m\u001b[38;5;124m because of the following error (look up to see its\u001b[39m\u001b[38;5;124m\"\u001b[39m\n\u001b[0;32m   1867\u001b[0m             \u001b[38;5;124mf\u001b[39m\u001b[38;5;124m\"\u001b[39m\u001b[38;5;124m traceback):\u001b[39m\u001b[38;5;130;01m\\n\u001b[39;00m\u001b[38;5;132;01m{\u001b[39;00me\u001b[38;5;132;01m}\u001b[39;00m\u001b[38;5;124m\"\u001b[39m\n\u001b[0;32m   1868\u001b[0m         ) \u001b[38;5;28;01mfrom\u001b[39;00m \u001b[38;5;21;01me\u001b[39;00m\n",
      "File \u001b[1;32mc:\\Users\\elias\\AppData\\Local\\Programs\\Python\\Python311\\Lib\\importlib\\__init__.py:126\u001b[0m, in \u001b[0;36mimport_module\u001b[1;34m(name, package)\u001b[0m\n\u001b[0;32m    124\u001b[0m             \u001b[38;5;28;01mbreak\u001b[39;00m\n\u001b[0;32m    125\u001b[0m         level \u001b[38;5;241m+\u001b[39m\u001b[38;5;241m=\u001b[39m \u001b[38;5;241m1\u001b[39m\n\u001b[1;32m--> 126\u001b[0m \u001b[38;5;28;01mreturn\u001b[39;00m \u001b[43m_bootstrap\u001b[49m\u001b[38;5;241;43m.\u001b[39;49m\u001b[43m_gcd_import\u001b[49m\u001b[43m(\u001b[49m\u001b[43mname\u001b[49m\u001b[43m[\u001b[49m\u001b[43mlevel\u001b[49m\u001b[43m:\u001b[49m\u001b[43m]\u001b[49m\u001b[43m,\u001b[49m\u001b[43m \u001b[49m\u001b[43mpackage\u001b[49m\u001b[43m,\u001b[49m\u001b[43m \u001b[49m\u001b[43mlevel\u001b[49m\u001b[43m)\u001b[49m\n",
      "File \u001b[1;32mc:\\Users\\elias\\AppData\\Local\\Programs\\Python\\Python311\\Lib\\site-packages\\transformers\\models\\__init__.py:15\u001b[0m\n\u001b[0;32m      1\u001b[0m \u001b[38;5;66;03m# Copyright 2020 The HuggingFace Team. All rights reserved.\u001b[39;00m\n\u001b[0;32m      2\u001b[0m \u001b[38;5;66;03m#\u001b[39;00m\n\u001b[0;32m      3\u001b[0m \u001b[38;5;66;03m# Licensed under the Apache License, Version 2.0 (the \"License\");\u001b[39;00m\n\u001b[1;32m   (...)\u001b[0m\n\u001b[0;32m     12\u001b[0m \u001b[38;5;66;03m# See the License for the specific language governing permissions and\u001b[39;00m\n\u001b[0;32m     13\u001b[0m \u001b[38;5;66;03m# limitations under the License.\u001b[39;00m\n\u001b[1;32m---> 15\u001b[0m \u001b[38;5;28;01mfrom\u001b[39;00m \u001b[38;5;21;01m.\u001b[39;00m \u001b[38;5;28;01mimport\u001b[39;00m (\n\u001b[0;32m     16\u001b[0m     albert,\n\u001b[0;32m     17\u001b[0m     align,\n\u001b[0;32m     18\u001b[0m     altclip,\n\u001b[0;32m     19\u001b[0m     aria,\n\u001b[0;32m     20\u001b[0m     audio_spectrogram_transformer,\n\u001b[0;32m     21\u001b[0m     auto,\n\u001b[0;32m     22\u001b[0m     autoformer,\n\u001b[0;32m     23\u001b[0m     bamba,\n\u001b[0;32m     24\u001b[0m     bark,\n\u001b[0;32m     25\u001b[0m     bart,\n\u001b[0;32m     26\u001b[0m     barthez,\n\u001b[0;32m     27\u001b[0m     bartpho,\n\u001b[0;32m     28\u001b[0m     beit,\n\u001b[0;32m     29\u001b[0m     bert,\n\u001b[0;32m     30\u001b[0m     bert_generation,\n\u001b[0;32m     31\u001b[0m     bert_japanese,\n\u001b[0;32m     32\u001b[0m     bertweet,\n\u001b[0;32m     33\u001b[0m     big_bird,\n\u001b[0;32m     34\u001b[0m     bigbird_pegasus,\n\u001b[0;32m     35\u001b[0m     biogpt,\n\u001b[0;32m     36\u001b[0m     bit,\n\u001b[0;32m     37\u001b[0m     blenderbot,\n\u001b[0;32m     38\u001b[0m     blenderbot_small,\n\u001b[0;32m     39\u001b[0m     blip,\n\u001b[0;32m     40\u001b[0m     blip_2,\n\u001b[0;32m     41\u001b[0m     bloom,\n\u001b[0;32m     42\u001b[0m     bridgetower,\n\u001b[0;32m     43\u001b[0m     bros,\n\u001b[0;32m     44\u001b[0m     byt5,\n\u001b[0;32m     45\u001b[0m     camembert,\n\u001b[0;32m     46\u001b[0m     canine,\n\u001b[0;32m     47\u001b[0m     chameleon,\n\u001b[0;32m     48\u001b[0m     chinese_clip,\n\u001b[0;32m     49\u001b[0m     clap,\n\u001b[0;32m     50\u001b[0m     clip,\n\u001b[0;32m     51\u001b[0m     clipseg,\n\u001b[0;32m     52\u001b[0m     clvp,\n\u001b[0;32m     53\u001b[0m     code_llama,\n\u001b[0;32m     54\u001b[0m     codegen,\n\u001b[0;32m     55\u001b[0m     cohere,\n\u001b[0;32m     56\u001b[0m     cohere2,\n\u001b[0;32m     57\u001b[0m     colpali,\n\u001b[0;32m     58\u001b[0m     conditional_detr,\n\u001b[0;32m     59\u001b[0m     convbert,\n\u001b[0;32m     60\u001b[0m     convnext,\n\u001b[0;32m     61\u001b[0m     convnextv2,\n\u001b[0;32m     62\u001b[0m     cpm,\n\u001b[0;32m     63\u001b[0m     cpmant,\n\u001b[0;32m     64\u001b[0m     ctrl,\n\u001b[0;32m     65\u001b[0m     cvt,\n\u001b[0;32m     66\u001b[0m     dab_detr,\n\u001b[0;32m     67\u001b[0m     dac,\n\u001b[0;32m     68\u001b[0m     data2vec,\n\u001b[0;32m     69\u001b[0m     dbrx,\n\u001b[0;32m     70\u001b[0m     deberta,\n\u001b[0;32m     71\u001b[0m     deberta_v2,\n\u001b[0;32m     72\u001b[0m     decision_transformer,\n\u001b[0;32m     73\u001b[0m     deformable_detr,\n\u001b[0;32m     74\u001b[0m     deit,\n\u001b[0;32m     75\u001b[0m     deprecated,\n\u001b[0;32m     76\u001b[0m     depth_anything,\n\u001b[0;32m     77\u001b[0m     depth_pro,\n\u001b[0;32m     78\u001b[0m     detr,\n\u001b[0;32m     79\u001b[0m     dialogpt,\n\u001b[0;32m     80\u001b[0m     diffllama,\n\u001b[0;32m     81\u001b[0m     dinat,\n\u001b[0;32m     82\u001b[0m     dinov2,\n\u001b[0;32m     83\u001b[0m     dinov2_with_registers,\n\u001b[0;32m     84\u001b[0m     distilbert,\n\u001b[0;32m     85\u001b[0m     dit,\n\u001b[0;32m     86\u001b[0m     donut,\n\u001b[0;32m     87\u001b[0m     dpr,\n\u001b[0;32m     88\u001b[0m     dpt,\n\u001b[0;32m     89\u001b[0m     efficientnet,\n\u001b[0;32m     90\u001b[0m     electra,\n\u001b[0;32m     91\u001b[0m     emu3,\n\u001b[0;32m     92\u001b[0m     encodec,\n\u001b[0;32m     93\u001b[0m     encoder_decoder,\n\u001b[0;32m     94\u001b[0m     ernie,\n\u001b[0;32m     95\u001b[0m     esm,\n\u001b[0;32m     96\u001b[0m     falcon,\n\u001b[0;32m     97\u001b[0m     falcon_mamba,\n\u001b[0;32m     98\u001b[0m     fastspeech2_conformer,\n\u001b[0;32m     99\u001b[0m     flaubert,\n\u001b[0;32m    100\u001b[0m     flava,\n\u001b[0;32m    101\u001b[0m     fnet,\n\u001b[0;32m    102\u001b[0m     focalnet,\n\u001b[0;32m    103\u001b[0m     fsmt,\n\u001b[0;32m    104\u001b[0m     funnel,\n\u001b[0;32m    105\u001b[0m     fuyu,\n\u001b[0;32m    106\u001b[0m     gemma,\n\u001b[0;32m    107\u001b[0m     gemma2,\n\u001b[0;32m    108\u001b[0m     git,\n\u001b[0;32m    109\u001b[0m     glm,\n\u001b[0;32m    110\u001b[0m     glpn,\n\u001b[0;32m    111\u001b[0m     got_ocr2,\n\u001b[0;32m    112\u001b[0m     gpt2,\n\u001b[0;32m    113\u001b[0m     gpt_bigcode,\n\u001b[0;32m    114\u001b[0m     gpt_neo,\n\u001b[0;32m    115\u001b[0m     gpt_neox,\n\u001b[0;32m    116\u001b[0m     gpt_neox_japanese,\n\u001b[0;32m    117\u001b[0m     gpt_sw3,\n\u001b[0;32m    118\u001b[0m     gptj,\n\u001b[0;32m    119\u001b[0m     granite,\n\u001b[0;32m    120\u001b[0m     granitemoe,\n\u001b[0;32m    121\u001b[0m     granitemoeshared,\n\u001b[0;32m    122\u001b[0m     grounding_dino,\n\u001b[0;32m    123\u001b[0m     groupvit,\n\u001b[0;32m    124\u001b[0m     helium,\n\u001b[0;32m    125\u001b[0m     herbert,\n\u001b[0;32m    126\u001b[0m     hiera,\n\u001b[0;32m    127\u001b[0m     hubert,\n\u001b[0;32m    128\u001b[0m     ibert,\n\u001b[0;32m    129\u001b[0m     idefics,\n\u001b[0;32m    130\u001b[0m     idefics2,\n\u001b[0;32m    131\u001b[0m     idefics3,\n\u001b[0;32m    132\u001b[0m     ijepa,\n\u001b[0;32m    133\u001b[0m     imagegpt,\n\u001b[0;32m    134\u001b[0m     informer,\n\u001b[0;32m    135\u001b[0m     instructblip,\n\u001b[0;32m    136\u001b[0m     instructblipvideo,\n\u001b[0;32m    137\u001b[0m     jamba,\n\u001b[0;32m    138\u001b[0m     jetmoe,\n\u001b[0;32m    139\u001b[0m     kosmos2,\n\u001b[0;32m    140\u001b[0m     layoutlm,\n\u001b[0;32m    141\u001b[0m     layoutlmv2,\n\u001b[0;32m    142\u001b[0m     layoutlmv3,\n\u001b[0;32m    143\u001b[0m     layoutxlm,\n\u001b[0;32m    144\u001b[0m     led,\n\u001b[0;32m    145\u001b[0m     levit,\n\u001b[0;32m    146\u001b[0m     lilt,\n\u001b[0;32m    147\u001b[0m     llama,\n\u001b[0;32m    148\u001b[0m     llava,\n\u001b[0;32m    149\u001b[0m     llava_next,\n\u001b[0;32m    150\u001b[0m     llava_next_video,\n\u001b[0;32m    151\u001b[0m     llava_onevision,\n\u001b[0;32m    152\u001b[0m     longformer,\n\u001b[0;32m    153\u001b[0m     longt5,\n\u001b[0;32m    154\u001b[0m     luke,\n\u001b[0;32m    155\u001b[0m     lxmert,\n\u001b[0;32m    156\u001b[0m     m2m_100,\n\u001b[0;32m    157\u001b[0m     mamba,\n\u001b[0;32m    158\u001b[0m     mamba2,\n\u001b[0;32m    159\u001b[0m     marian,\n\u001b[0;32m    160\u001b[0m     markuplm,\n\u001b[0;32m    161\u001b[0m     mask2former,\n\u001b[0;32m    162\u001b[0m     maskformer,\n\u001b[0;32m    163\u001b[0m     mbart,\n\u001b[0;32m    164\u001b[0m     mbart50,\n\u001b[0;32m    165\u001b[0m     megatron_bert,\n\u001b[0;32m    166\u001b[0m     megatron_gpt2,\n\u001b[0;32m    167\u001b[0m     mgp_str,\n\u001b[0;32m    168\u001b[0m     mimi,\n\u001b[0;32m    169\u001b[0m     mistral,\n\u001b[0;32m    170\u001b[0m     mixtral,\n\u001b[0;32m    171\u001b[0m     mllama,\n\u001b[0;32m    172\u001b[0m     mluke,\n\u001b[0;32m    173\u001b[0m     mobilebert,\n\u001b[0;32m    174\u001b[0m     mobilenet_v1,\n\u001b[0;32m    175\u001b[0m     mobilenet_v2,\n\u001b[0;32m    176\u001b[0m     mobilevit,\n\u001b[0;32m    177\u001b[0m     mobilevitv2,\n\u001b[0;32m    178\u001b[0m     modernbert,\n\u001b[0;32m    179\u001b[0m     moonshine,\n\u001b[0;32m    180\u001b[0m     moshi,\n\u001b[0;32m    181\u001b[0m     mpnet,\n\u001b[0;32m    182\u001b[0m     mpt,\n\u001b[0;32m    183\u001b[0m     mra,\n\u001b[0;32m    184\u001b[0m     mt5,\n\u001b[0;32m    185\u001b[0m     musicgen,\n\u001b[0;32m    186\u001b[0m     musicgen_melody,\n\u001b[0;32m    187\u001b[0m     mvp,\n\u001b[0;32m    188\u001b[0m     myt5,\n\u001b[0;32m    189\u001b[0m     nemotron,\n\u001b[0;32m    190\u001b[0m     nllb,\n\u001b[0;32m    191\u001b[0m     nllb_moe,\n\u001b[0;32m    192\u001b[0m     nougat,\n\u001b[0;32m    193\u001b[0m     nystromformer,\n\u001b[0;32m    194\u001b[0m     olmo,\n\u001b[0;32m    195\u001b[0m     olmo2,\n\u001b[0;32m    196\u001b[0m     olmoe,\n\u001b[0;32m    197\u001b[0m     omdet_turbo,\n\u001b[0;32m    198\u001b[0m     oneformer,\n\u001b[0;32m    199\u001b[0m     openai,\n\u001b[0;32m    200\u001b[0m     opt,\n\u001b[0;32m    201\u001b[0m     owlv2,\n\u001b[0;32m    202\u001b[0m     owlvit,\n\u001b[0;32m    203\u001b[0m     paligemma,\n\u001b[0;32m    204\u001b[0m     patchtsmixer,\n\u001b[0;32m    205\u001b[0m     patchtst,\n\u001b[0;32m    206\u001b[0m     pegasus,\n\u001b[0;32m    207\u001b[0m     pegasus_x,\n\u001b[0;32m    208\u001b[0m     perceiver,\n\u001b[0;32m    209\u001b[0m     persimmon,\n\u001b[0;32m    210\u001b[0m     phi,\n\u001b[0;32m    211\u001b[0m     phi3,\n\u001b[0;32m    212\u001b[0m     phimoe,\n\u001b[0;32m    213\u001b[0m     phobert,\n\u001b[0;32m    214\u001b[0m     pix2struct,\n\u001b[0;32m    215\u001b[0m     pixtral,\n\u001b[0;32m    216\u001b[0m     plbart,\n\u001b[0;32m    217\u001b[0m     poolformer,\n\u001b[0;32m    218\u001b[0m     pop2piano,\n\u001b[0;32m    219\u001b[0m     prophetnet,\n\u001b[0;32m    220\u001b[0m     pvt,\n\u001b[0;32m    221\u001b[0m     pvt_v2,\n\u001b[0;32m    222\u001b[0m     qwen2,\n\u001b[0;32m    223\u001b[0m     qwen2_5_vl,\n\u001b[0;32m    224\u001b[0m     qwen2_audio,\n\u001b[0;32m    225\u001b[0m     qwen2_moe,\n\u001b[0;32m    226\u001b[0m     qwen2_vl,\n\u001b[0;32m    227\u001b[0m     rag,\n\u001b[0;32m    228\u001b[0m     recurrent_gemma,\n\u001b[0;32m    229\u001b[0m     reformer,\n\u001b[0;32m    230\u001b[0m     regnet,\n\u001b[0;32m    231\u001b[0m     rembert,\n\u001b[0;32m    232\u001b[0m     resnet,\n\u001b[0;32m    233\u001b[0m     roberta,\n\u001b[0;32m    234\u001b[0m     roberta_prelayernorm,\n\u001b[0;32m    235\u001b[0m     roc_bert,\n\u001b[0;32m    236\u001b[0m     roformer,\n\u001b[0;32m    237\u001b[0m     rt_detr,\n\u001b[0;32m    238\u001b[0m     rt_detr_v2,\n\u001b[0;32m    239\u001b[0m     rwkv,\n\u001b[0;32m    240\u001b[0m     sam,\n\u001b[0;32m    241\u001b[0m     seamless_m4t,\n\u001b[0;32m    242\u001b[0m     seamless_m4t_v2,\n\u001b[0;32m    243\u001b[0m     segformer,\n\u001b[0;32m    244\u001b[0m     seggpt,\n\u001b[0;32m    245\u001b[0m     sew,\n\u001b[0;32m    246\u001b[0m     sew_d,\n\u001b[0;32m    247\u001b[0m     siglip,\n\u001b[0;32m    248\u001b[0m     speech_encoder_decoder,\n\u001b[0;32m    249\u001b[0m     speech_to_text,\n\u001b[0;32m    250\u001b[0m     speecht5,\n\u001b[0;32m    251\u001b[0m     splinter,\n\u001b[0;32m    252\u001b[0m     squeezebert,\n\u001b[0;32m    253\u001b[0m     stablelm,\n\u001b[0;32m    254\u001b[0m     starcoder2,\n\u001b[0;32m    255\u001b[0m     superglue,\n\u001b[0;32m    256\u001b[0m     superpoint,\n\u001b[0;32m    257\u001b[0m     swiftformer,\n\u001b[0;32m    258\u001b[0m     swin,\n\u001b[0;32m    259\u001b[0m     swin2sr,\n\u001b[0;32m    260\u001b[0m     swinv2,\n\u001b[0;32m    261\u001b[0m     switch_transformers,\n\u001b[0;32m    262\u001b[0m     t5,\n\u001b[0;32m    263\u001b[0m     table_transformer,\n\u001b[0;32m    264\u001b[0m     tapas,\n\u001b[0;32m    265\u001b[0m     textnet,\n\u001b[0;32m    266\u001b[0m     time_series_transformer,\n\u001b[0;32m    267\u001b[0m     timesformer,\n\u001b[0;32m    268\u001b[0m     timm_backbone,\n\u001b[0;32m    269\u001b[0m     timm_wrapper,\n\u001b[0;32m    270\u001b[0m     trocr,\n\u001b[0;32m    271\u001b[0m     tvp,\n\u001b[0;32m    272\u001b[0m     udop,\n\u001b[0;32m    273\u001b[0m     umt5,\n\u001b[0;32m    274\u001b[0m     unispeech,\n\u001b[0;32m    275\u001b[0m     unispeech_sat,\n\u001b[0;32m    276\u001b[0m     univnet,\n\u001b[0;32m    277\u001b[0m     upernet,\n\u001b[0;32m    278\u001b[0m     video_llava,\n\u001b[0;32m    279\u001b[0m     videomae,\n\u001b[0;32m    280\u001b[0m     vilt,\n\u001b[0;32m    281\u001b[0m     vipllava,\n\u001b[0;32m    282\u001b[0m     vision_encoder_decoder,\n\u001b[0;32m    283\u001b[0m     vision_text_dual_encoder,\n\u001b[0;32m    284\u001b[0m     visual_bert,\n\u001b[0;32m    285\u001b[0m     vit,\n\u001b[0;32m    286\u001b[0m     vit_mae,\n\u001b[0;32m    287\u001b[0m     vit_msn,\n\u001b[0;32m    288\u001b[0m     vitdet,\n\u001b[0;32m    289\u001b[0m     vitmatte,\n\u001b[0;32m    290\u001b[0m     vitpose,\n\u001b[0;32m    291\u001b[0m     vitpose_backbone,\n\u001b[0;32m    292\u001b[0m     vits,\n\u001b[0;32m    293\u001b[0m     vivit,\n\u001b[0;32m    294\u001b[0m     wav2vec2,\n\u001b[0;32m    295\u001b[0m     wav2vec2_bert,\n\u001b[0;32m    296\u001b[0m     wav2vec2_conformer,\n\u001b[0;32m    297\u001b[0m     wav2vec2_phoneme,\n\u001b[0;32m    298\u001b[0m     wav2vec2_with_lm,\n\u001b[0;32m    299\u001b[0m     wavlm,\n\u001b[0;32m    300\u001b[0m     whisper,\n\u001b[0;32m    301\u001b[0m     x_clip,\n\u001b[0;32m    302\u001b[0m     xglm,\n\u001b[0;32m    303\u001b[0m     xlm,\n\u001b[0;32m    304\u001b[0m     xlm_roberta,\n\u001b[0;32m    305\u001b[0m     xlm_roberta_xl,\n\u001b[0;32m    306\u001b[0m     xlnet,\n\u001b[0;32m    307\u001b[0m     xmod,\n\u001b[0;32m    308\u001b[0m     yolos,\n\u001b[0;32m    309\u001b[0m     yoso,\n\u001b[0;32m    310\u001b[0m     zamba,\n\u001b[0;32m    311\u001b[0m     zamba2,\n\u001b[0;32m    312\u001b[0m     zoedepth,\n\u001b[0;32m    313\u001b[0m )\n",
      "File \u001b[1;32mc:\\Users\\elias\\AppData\\Local\\Programs\\Python\\Python311\\Lib\\site-packages\\transformers\\models\\layoutlm\\__init__.py:30\u001b[0m\n\u001b[0;32m     27\u001b[0m \u001b[38;5;28;01mimport\u001b[39;00m \u001b[38;5;21;01msys\u001b[39;00m\n\u001b[0;32m     29\u001b[0m _file \u001b[38;5;241m=\u001b[39m \u001b[38;5;28mglobals\u001b[39m()[\u001b[38;5;124m\"\u001b[39m\u001b[38;5;124m__file__\u001b[39m\u001b[38;5;124m\"\u001b[39m]\n\u001b[1;32m---> 30\u001b[0m sys\u001b[38;5;241m.\u001b[39mmodules[\u001b[38;5;18m__name__\u001b[39m] \u001b[38;5;241m=\u001b[39m _LazyModule(\u001b[38;5;18m__name__\u001b[39m, _file, \u001b[43mdefine_import_structure\u001b[49m\u001b[43m(\u001b[49m\u001b[43m_file\u001b[49m\u001b[43m)\u001b[49m, module_spec\u001b[38;5;241m=\u001b[39m__spec__)\n",
      "File \u001b[1;32mc:\\Users\\elias\\AppData\\Local\\Programs\\Python\\Python311\\Lib\\site-packages\\transformers\\utils\\import_utils.py:2287\u001b[0m, in \u001b[0;36mdefine_import_structure\u001b[1;34m(module_path)\u001b[0m\n\u001b[0;32m   2266\u001b[0m \u001b[38;5;28;01mdef\u001b[39;00m \u001b[38;5;21mdefine_import_structure\u001b[39m(module_path: \u001b[38;5;28mstr\u001b[39m) \u001b[38;5;241m-\u001b[39m\u001b[38;5;241m>\u001b[39m IMPORT_STRUCTURE_T:\n\u001b[0;32m   2267\u001b[0m \u001b[38;5;250m    \u001b[39m\u001b[38;5;124;03m\"\"\"\u001b[39;00m\n\u001b[0;32m   2268\u001b[0m \u001b[38;5;124;03m    This method takes a module_path as input and creates an import structure digestible by a _LazyModule.\u001b[39;00m\n\u001b[0;32m   2269\u001b[0m \n\u001b[1;32m   (...)\u001b[0m\n\u001b[0;32m   2285\u001b[0m \u001b[38;5;124;03m    The import structure is a dict defined with frozensets as keys, and dicts of strings to sets of objects.\u001b[39;00m\n\u001b[0;32m   2286\u001b[0m \u001b[38;5;124;03m    \"\"\"\u001b[39;00m\n\u001b[1;32m-> 2287\u001b[0m     import_structure \u001b[38;5;241m=\u001b[39m \u001b[43mcreate_import_structure_from_path\u001b[49m\u001b[43m(\u001b[49m\u001b[43mmodule_path\u001b[49m\u001b[43m)\u001b[49m\n\u001b[0;32m   2288\u001b[0m     \u001b[38;5;28;01mreturn\u001b[39;00m spread_import_structure(import_structure)\n",
      "File \u001b[1;32mc:\\Users\\elias\\AppData\\Local\\Programs\\Python\\Python311\\Lib\\site-packages\\transformers\\utils\\import_utils.py:2057\u001b[0m, in \u001b[0;36mcreate_import_structure_from_path\u001b[1;34m(module_path)\u001b[0m\n\u001b[0;32m   2054\u001b[0m \u001b[38;5;28;01mif\u001b[39;00m \u001b[38;5;129;01mnot\u001b[39;00m module_name\u001b[38;5;241m.\u001b[39mendswith(\u001b[38;5;124m\"\u001b[39m\u001b[38;5;124m.py\u001b[39m\u001b[38;5;124m\"\u001b[39m):\n\u001b[0;32m   2055\u001b[0m     \u001b[38;5;28;01mcontinue\u001b[39;00m\n\u001b[1;32m-> 2057\u001b[0m \u001b[38;5;28;01mwith\u001b[39;00m \u001b[38;5;28mopen\u001b[39m(os\u001b[38;5;241m.\u001b[39mpath\u001b[38;5;241m.\u001b[39mjoin(directory, module_name), encoding\u001b[38;5;241m=\u001b[39m\u001b[38;5;124m\"\u001b[39m\u001b[38;5;124mutf-8\u001b[39m\u001b[38;5;124m\"\u001b[39m) \u001b[38;5;28;01mas\u001b[39;00m f:\n\u001b[0;32m   2058\u001b[0m     file_content \u001b[38;5;241m=\u001b[39m f\u001b[38;5;241m.\u001b[39mread()\n\u001b[0;32m   2060\u001b[0m \u001b[38;5;66;03m# Remove the .py suffix\u001b[39;00m\n",
      "File \u001b[1;32m<frozen codecs>:309\u001b[0m, in \u001b[0;36m__init__\u001b[1;34m(self, errors)\u001b[0m\n",
      "\u001b[1;31mKeyboardInterrupt\u001b[0m: "
     ]
    }
   ],
   "source": [
    "from transformers import BertTokenizer\n",
    "tokenizer = BertTokenizer.from_pretrained('bert-base-uncased')\n",
    "\n",
    "# Tokenize the texts\n",
    "inputs = tokenizer(\n",
    "    list(df['tweet']),\n",
    "    return_tensors='pt',\n",
    "    padding=True,\n",
    "    truncation=True,\n",
    "    max_length=128\n",
    ")"
   ]
  },
  {
   "cell_type": "markdown",
   "metadata": {
    "id": "RODueydrmZX0"
   },
   "source": [
    "##### Step 3: Prepare the labels"
   ]
  },
  {
   "cell_type": "code",
   "execution_count": null,
   "metadata": {
    "ExecuteTime": {
     "end_time": "2025-05-06T09:35:13.443463800Z",
     "start_time": "2025-04-25T12:01:15.393330Z"
    },
    "colab": {
     "base_uri": "https://localhost:8080/"
    },
    "executionInfo": {
     "elapsed": 5,
     "status": "ok",
     "timestamp": 1745572724881,
     "user": {
      "displayName": "Elias Christmas",
      "userId": "05020824668584987002"
     },
     "user_tz": -120
    },
    "id": "WdFkA8fFO6Lq",
    "outputId": "c6cc87ca-8fc7-4be2-98fd-4b3e82c8bbb2"
   },
   "outputs": [
    {
     "name": "stdout",
     "output_type": "stream",
     "text": [
      "['real' 'fake']\n",
      "0    real\n",
      "1    real\n",
      "2    fake\n",
      "3    real\n",
      "4    real\n",
      "5    real\n",
      "6    real\n",
      "7    fake\n",
      "8    fake\n",
      "9    fake\n",
      "Name: label, dtype: object\n",
      "label\n",
      "real    3360\n",
      "fake    3060\n",
      "Name: count, dtype: int64\n"
     ]
    }
   ],
   "source": [
    "print(df['label'].unique())\n",
    "print(df['label'].head(10))\n",
    "print(df['label'].value_counts(dropna=False))\n"
   ]
  },
  {
   "cell_type": "code",
   "execution_count": null,
   "metadata": {
    "ExecuteTime": {
     "end_time": "2025-05-06T09:35:13.443463800Z",
     "start_time": "2025-04-25T12:01:17.153902Z"
    },
    "colab": {
     "base_uri": "https://localhost:8080/"
    },
    "executionInfo": {
     "elapsed": 7,
     "status": "ok",
     "timestamp": 1745572726567,
     "user": {
      "displayName": "Elias Christmas",
      "userId": "05020824668584987002"
     },
     "user_tz": -120
    },
    "id": "Bl6qLLHU5T1L",
    "outputId": "847d7d41-f0b7-41ba-f209-4c74bc482423"
   },
   "outputs": [
    {
     "name": "stdout",
     "output_type": "stream",
     "text": [
      "[1 0]\n"
     ]
    }
   ],
   "source": [
    "# Step 1: Map 'real'/'fake' to 1/0\n",
    "df['label'] = df['label'].map({'fake': 0, 'real': 1})\n",
    "\n",
    "# Step 2: Remove any NaNs that came from unmapped values\n",
    "df = df.dropna(subset=['label'])\n",
    "\n",
    "# Step 3: Convert labels to integers\n",
    "df['label'] = df['label'].astype(int)\n",
    "\n",
    "# Step 4: Check the result\n",
    "print(df['label'].unique())\n"
   ]
  },
  {
   "cell_type": "code",
   "execution_count": null,
   "metadata": {
    "ExecuteTime": {
     "end_time": "2025-05-06T09:35:13.472971100Z",
     "start_time": "2025-04-25T12:01:21.413009Z"
    },
    "executionInfo": {
     "elapsed": 22,
     "status": "ok",
     "timestamp": 1745572801410,
     "user": {
      "displayName": "Elias Christmas",
      "userId": "05020824668584987002"
     },
     "user_tz": -120
    },
    "id": "zM6UYEA7kHZw"
   },
   "outputs": [],
   "source": [
    "from torch.utils.data import TensorDataset, DataLoader, random_split\n",
    "import torch\n",
    "\n",
    "labels = torch.tensor(df['label'].values, dtype=torch.long)\n",
    "\n",
    "dataset = TensorDataset(inputs['input_ids'], inputs['attention_mask'], labels)\n",
    "\n",
    "train_size = int(0.8 * len(dataset))\n",
    "val_size = len(dataset) - train_size\n",
    "\n",
    "train_dataset, val_dataset = random_split(dataset, [train_size, val_size])\n",
    "\n",
    "train_loader = DataLoader(train_dataset, batch_size=16, shuffle=True)\n",
    "val_loader = DataLoader(val_dataset, batch_size=16)"
   ]
  },
  {
   "cell_type": "markdown",
   "metadata": {
    "id": "58S0SvirnBKO"
   },
   "source": [
    "##### Step 5: Training the model"
   ]
  },
  {
   "cell_type": "code",
   "execution_count": null,
   "metadata": {
    "ExecuteTime": {
     "end_time": "2025-05-06T09:35:13.473970400Z",
     "start_time": "2025-04-25T12:02:03.269237Z"
    },
    "colab": {
     "base_uri": "https://localhost:8080/"
    },
    "collapsed": true,
    "executionInfo": {
     "elapsed": 27119,
     "status": "ok",
     "timestamp": 1745572860131,
     "user": {
      "displayName": "Elias Christmas",
      "userId": "05020824668584987002"
     },
     "user_tz": -120
    },
    "id": "Cc4yLkcbncB2",
    "outputId": "0088b742-4eb3-4608-ea6c-fdf6983808dd"
   },
   "outputs": [
    {
     "name": "stderr",
     "output_type": "stream",
     "text": [
      "Some weights of BertForSequenceClassification were not initialized from the model checkpoint at bert-base-uncased and are newly initialized: ['classifier.bias', 'classifier.weight']\n",
      "You should probably TRAIN this model on a down-stream task to be able to use it for predictions and inference.\n"
     ]
    },
    {
     "name": "stdout",
     "output_type": "stream",
     "text": [
      "Epoch 1\n",
      "Loss: 0.6704\n",
      "Loss: 0.7015\n",
      "Loss: 0.6494\n",
      "Loss: 0.6200\n",
      "Loss: 0.6001\n",
      "Loss: 0.5533\n",
      "Loss: 0.5396\n",
      "Loss: 0.5984\n",
      "Loss: 0.4442\n",
      "Loss: 0.6472\n",
      "Loss: 0.3948\n",
      "Loss: 0.4124\n",
      "Loss: 0.6437\n",
      "Loss: 0.5478\n",
      "Loss: 0.4082\n",
      "Loss: 0.3231\n",
      "Loss: 0.4878\n",
      "Loss: 0.4900\n",
      "Loss: 0.5173\n",
      "Loss: 0.2928\n",
      "Loss: 0.3440\n",
      "Loss: 0.3656\n",
      "Loss: 0.3997\n",
      "Loss: 0.3382\n",
      "Loss: 0.5586\n",
      "Loss: 0.4750\n",
      "Loss: 0.3946\n",
      "Loss: 0.3134\n",
      "Loss: 0.3240\n",
      "Loss: 0.3943\n",
      "Loss: 0.2930\n",
      "Loss: 0.5217\n",
      "Loss: 0.3647\n",
      "Loss: 0.5292\n",
      "Loss: 0.4592\n",
      "Loss: 0.2673\n",
      "Loss: 0.3355\n",
      "Loss: 0.3595\n",
      "Loss: 0.3627\n",
      "Loss: 0.3002\n",
      "Loss: 0.2691\n",
      "Loss: 0.3361\n",
      "Loss: 0.1959\n",
      "Loss: 0.4191\n",
      "Loss: 0.1430\n",
      "Loss: 0.3040\n",
      "Loss: 0.4626\n",
      "Loss: 0.7963\n",
      "Loss: 0.3097\n",
      "Loss: 0.2968\n",
      "Loss: 0.1919\n",
      "Loss: 0.1409\n",
      "Loss: 0.3122\n",
      "Loss: 0.2100\n",
      "Loss: 0.2353\n",
      "Loss: 0.1425\n",
      "Loss: 0.1730\n",
      "Loss: 0.1085\n",
      "Loss: 0.1365\n",
      "Loss: 0.1856\n",
      "Loss: 0.2005\n",
      "Loss: 0.0877\n",
      "Loss: 0.2966\n",
      "Loss: 0.1265\n",
      "Loss: 0.1264\n",
      "Loss: 0.3197\n",
      "Loss: 0.1610\n",
      "Loss: 0.0541\n",
      "Loss: 0.3908\n",
      "Loss: 0.1162\n",
      "Loss: 0.2759\n",
      "Loss: 0.6199\n",
      "Loss: 0.1476\n",
      "Loss: 0.0734\n",
      "Loss: 0.2525\n",
      "Loss: 0.3042\n",
      "Loss: 0.3149\n",
      "Loss: 0.3043\n",
      "Loss: 0.1781\n",
      "Loss: 0.2769\n",
      "Loss: 0.1716\n",
      "Loss: 0.0926\n",
      "Loss: 0.1070\n",
      "Loss: 0.1414\n",
      "Loss: 0.4203\n",
      "Loss: 0.2977\n",
      "Loss: 0.1489\n",
      "Loss: 0.1901\n",
      "Loss: 0.2644\n",
      "Loss: 0.0745\n",
      "Loss: 0.0871\n",
      "Loss: 0.1394\n",
      "Loss: 0.0956\n",
      "Loss: 0.1540\n",
      "Loss: 0.0535\n",
      "Loss: 0.2904\n",
      "Loss: 0.0893\n",
      "Loss: 0.3612\n",
      "Loss: 0.0730\n",
      "Loss: 0.0573\n",
      "Loss: 0.0614\n",
      "Loss: 0.2338\n",
      "Loss: 0.0766\n",
      "Loss: 0.1966\n",
      "Loss: 0.1192\n",
      "Loss: 0.2600\n",
      "Loss: 0.5780\n",
      "Loss: 0.1085\n",
      "Loss: 0.1191\n",
      "Loss: 0.1615\n",
      "Loss: 0.0611\n",
      "Loss: 0.0686\n",
      "Loss: 0.2525\n",
      "Loss: 0.0945\n",
      "Loss: 0.0372\n",
      "Loss: 0.2053\n",
      "Loss: 0.2009\n",
      "Loss: 0.0640\n",
      "Loss: 0.0353\n",
      "Loss: 0.2315\n",
      "Loss: 0.1914\n",
      "Loss: 0.2485\n",
      "Loss: 0.1590\n",
      "Loss: 0.1145\n",
      "Loss: 0.0901\n",
      "Loss: 0.3121\n",
      "Loss: 0.0933\n",
      "Loss: 0.2291\n",
      "Loss: 0.2820\n",
      "Loss: 0.0780\n",
      "Loss: 0.3302\n",
      "Loss: 0.1431\n",
      "Loss: 0.0251\n",
      "Loss: 0.1258\n",
      "Loss: 0.1436\n",
      "Loss: 0.0485\n",
      "Loss: 0.4421\n",
      "Loss: 0.0743\n",
      "Loss: 0.3505\n",
      "Loss: 0.1539\n",
      "Loss: 0.1030\n",
      "Loss: 0.0767\n",
      "Loss: 0.1098\n",
      "Loss: 0.0393\n",
      "Loss: 0.1863\n",
      "Loss: 0.0477\n",
      "Loss: 0.1461\n",
      "Loss: 0.0757\n",
      "Loss: 0.2868\n",
      "Loss: 0.0652\n",
      "Loss: 0.1697\n",
      "Loss: 0.0493\n",
      "Loss: 0.0324\n",
      "Loss: 0.2080\n",
      "Loss: 0.1250\n",
      "Loss: 0.0792\n",
      "Loss: 0.0654\n",
      "Loss: 0.1056\n",
      "Loss: 0.1174\n",
      "Loss: 0.2338\n",
      "Loss: 0.0303\n",
      "Loss: 0.5154\n",
      "Loss: 0.3175\n",
      "Loss: 0.0387\n",
      "Loss: 0.0338\n",
      "Loss: 0.1407\n",
      "Loss: 0.0169\n",
      "Loss: 0.4222\n",
      "Loss: 0.1603\n",
      "Loss: 0.3011\n",
      "Loss: 0.3417\n",
      "Loss: 0.0434\n",
      "Loss: 0.0523\n",
      "Loss: 0.1439\n",
      "Loss: 0.1161\n",
      "Loss: 0.0309\n",
      "Loss: 0.1779\n",
      "Loss: 0.0696\n",
      "Loss: 0.0442\n",
      "Loss: 0.0555\n",
      "Loss: 0.0246\n",
      "Loss: 0.0499\n",
      "Loss: 0.4383\n",
      "Loss: 0.0293\n",
      "Loss: 0.1165\n",
      "Loss: 0.0736\n",
      "Loss: 0.0258\n",
      "Loss: 0.0731\n",
      "Loss: 0.2016\n",
      "Loss: 0.0818\n",
      "Loss: 0.0679\n",
      "Loss: 0.4705\n",
      "Loss: 0.1674\n",
      "Loss: 0.1151\n",
      "Loss: 0.0206\n",
      "Loss: 0.0810\n",
      "Loss: 0.1882\n",
      "Loss: 0.1051\n",
      "Loss: 0.0857\n",
      "Loss: 0.1286\n",
      "Loss: 0.0740\n",
      "Loss: 0.1122\n",
      "Loss: 0.1723\n",
      "Loss: 0.1872\n",
      "Loss: 0.2078\n",
      "Loss: 0.4149\n",
      "Loss: 0.0529\n",
      "Loss: 0.0266\n",
      "Loss: 0.0635\n",
      "Loss: 0.0723\n",
      "Loss: 0.0298\n",
      "Loss: 0.1098\n",
      "Loss: 0.0588\n",
      "Loss: 0.0517\n",
      "Loss: 0.5508\n",
      "Loss: 0.0631\n",
      "Loss: 0.1845\n",
      "Loss: 0.1902\n",
      "Loss: 0.0279\n",
      "Loss: 0.1733\n",
      "Loss: 0.1993\n",
      "Loss: 0.3208\n",
      "Loss: 0.0394\n",
      "Loss: 0.1690\n",
      "Loss: 0.0851\n",
      "Loss: 0.1703\n",
      "Loss: 0.0288\n",
      "Loss: 0.1139\n",
      "Loss: 0.1145\n",
      "Loss: 0.0291\n",
      "Loss: 0.1649\n",
      "Loss: 0.0846\n",
      "Loss: 0.0171\n",
      "Loss: 0.0789\n",
      "Loss: 0.0709\n",
      "Loss: 0.1059\n",
      "Loss: 0.3350\n",
      "Loss: 0.0354\n",
      "Loss: 0.0462\n",
      "Loss: 0.0352\n",
      "Loss: 0.0587\n",
      "Loss: 0.0414\n",
      "Loss: 0.0383\n",
      "Loss: 0.1025\n",
      "Loss: 0.0186\n",
      "Loss: 0.1071\n",
      "Loss: 0.2766\n",
      "Loss: 0.1802\n",
      "Loss: 0.1831\n",
      "Loss: 0.1981\n",
      "Loss: 0.0461\n",
      "Loss: 0.1158\n",
      "Loss: 0.2786\n",
      "Loss: 0.0262\n",
      "Loss: 0.0713\n",
      "Loss: 0.1311\n",
      "Loss: 0.0127\n",
      "Loss: 0.0367\n",
      "Loss: 0.0119\n",
      "Loss: 0.0851\n",
      "Loss: 0.4822\n",
      "Loss: 0.0449\n",
      "Loss: 0.3258\n",
      "Loss: 0.0539\n",
      "Loss: 0.0292\n",
      "Loss: 0.1249\n",
      "Loss: 0.0682\n",
      "Loss: 0.0595\n",
      "Loss: 0.0778\n",
      "Loss: 0.1474\n",
      "Loss: 0.1664\n",
      "Loss: 0.3073\n",
      "Loss: 0.0809\n",
      "Loss: 0.0150\n",
      "Loss: 0.0656\n",
      "Loss: 0.0287\n",
      "Loss: 0.0360\n",
      "Loss: 0.0246\n",
      "Loss: 0.0259\n",
      "Loss: 0.0655\n",
      "Loss: 0.0199\n",
      "Loss: 0.0734\n",
      "Loss: 0.9148\n",
      "Loss: 0.0297\n",
      "Loss: 0.0332\n",
      "Loss: 0.6780\n",
      "Loss: 0.0152\n",
      "Loss: 0.2360\n",
      "Loss: 0.2221\n",
      "Loss: 0.2527\n",
      "Loss: 0.1516\n",
      "Loss: 0.1158\n",
      "Loss: 0.0591\n",
      "Loss: 0.2862\n",
      "Loss: 0.0267\n",
      "Loss: 0.0714\n",
      "Loss: 0.0392\n",
      "Loss: 0.0913\n",
      "Loss: 0.0291\n",
      "Loss: 0.1539\n",
      "Loss: 0.1383\n",
      "Loss: 0.0505\n",
      "Loss: 0.0433\n",
      "Loss: 0.1313\n",
      "Loss: 0.1045\n",
      "Loss: 0.0458\n",
      "Loss: 0.0202\n",
      "Loss: 0.1458\n",
      "Loss: 0.0758\n",
      "Loss: 0.0497\n",
      "Loss: 0.0129\n",
      "Loss: 0.0843\n",
      "Loss: 0.0834\n",
      "Loss: 0.0301\n",
      "Loss: 0.0369\n",
      "Loss: 0.1177\n",
      "Loss: 0.0181\n",
      "Loss: 0.0338\n",
      "Loss: 0.0605\n",
      "Loss: 0.0703\n",
      "Loss: 0.0958\n"
     ]
    }
   ],
   "source": [
    "from transformers import BertForSequenceClassification, BertTokenizer\n",
    "from torch.utils.data import DataLoader, Dataset\n",
    "import torch\n",
    "\n",
    "# Assuming train_loader is already defined\n",
    "model = BertForSequenceClassification.from_pretrained('bert-base-uncased', num_labels=2)\n",
    "device = torch.device('cuda' if torch.cuda.is_available() else 'cpu')\n",
    "model.to(device)\n",
    "\n",
    "optimizer = torch.optim.AdamW(model.parameters(), lr=2e-5)\n",
    "\n",
    "# Assign higher weight to class 0 (fake), lower to class 1 (true)\n",
    "# Adjust as needed (e.g., [2.0, 1.0] or [3.0, 1.0] for stronger penalty on false negatives)\n",
    "class_weights = torch.tensor([5.0, 1.0]).to(device)\n",
    "loss_fct = torch.nn.CrossEntropyLoss(weight=class_weights)\n",
    "\n",
    "model.train()\n",
    "for epoch in range(1):  # Adjust as needed\n",
    "    print(f\"Epoch {epoch + 1}\")\n",
    "    for batch in train_loader:\n",
    "        input_ids, attention_mask, labels = [x.to(device) for x in batch]\n",
    "\n",
    "        outputs = model(input_ids=input_ids, attention_mask=attention_mask)\n",
    "        logits = outputs.logits\n",
    "\n",
    "        loss = loss_fct(logits, labels)  # manual loss with weight\n",
    "\n",
    "        loss.backward()\n",
    "        optimizer.step()\n",
    "        optimizer.zero_grad()\n",
    "\n",
    "        print(f\"Loss: {loss.item():.4f}\")\n",
    "\n"
   ]
  },
  {
   "cell_type": "code",
   "execution_count": null,
   "metadata": {},
   "outputs": [
    {
     "name": "stdout",
     "output_type": "stream",
     "text": [
      "Accuracy: 0.9611\n",
      "Precision: 0.9956\n",
      "Recall: 0.9301\n",
      "F1-Score: 0.9617\n",
      "\n",
      "Classification Report:\n",
      "              precision    recall  f1-score   support\n",
      "\n",
      "        Fake       0.93      1.00      0.96      2434\n",
      "        True       1.00      0.93      0.96      2702\n",
      "\n",
      "    accuracy                           0.96      5136\n",
      "   macro avg       0.96      0.96      0.96      5136\n",
      "weighted avg       0.96      0.96      0.96      5136\n",
      "\n"
     ]
    }
   ],
   "source": [
    "from sklearn.metrics import accuracy_score, precision_score, recall_score, f1_score, classification_report\n",
    "\n",
    "true_labels = []\n",
    "predicted_labels = []\n",
    "\n",
    "model.eval()\n",
    "with torch.no_grad():\n",
    "    for batch in train_loader:\n",
    "        input_ids, attention_mask, labels = [x.to(device) for x in batch]\n",
    "        outputs = model(input_ids=input_ids, attention_mask=attention_mask)\n",
    "        logits = outputs.logits\n",
    "        preds = torch.argmax(logits, dim=1)\n",
    "\n",
    "        predicted_labels.extend(preds.cpu().numpy())\n",
    "        true_labels.extend(labels.cpu().numpy())\n",
    "\n",
    "# Calculate metrics\n",
    "accuracy = accuracy_score(true_labels, predicted_labels)\n",
    "precision = precision_score(true_labels, predicted_labels, average='binary')\n",
    "recall = recall_score(true_labels, predicted_labels, average='binary')\n",
    "f1 = f1_score(true_labels, predicted_labels, average='binary')\n",
    "\n",
    "print(f\"Accuracy: {accuracy:.4f}\")\n",
    "print(f\"Precision: {precision:.4f}\")\n",
    "print(f\"Recall: {recall:.4f}\")\n",
    "print(f\"F1-Score: {f1:.4f}\")\n",
    "\n",
    "# Optional: Full classification report\n",
    "print(\"\\nClassification Report:\")\n",
    "print(classification_report(true_labels, predicted_labels, target_names=[\"Fake\", \"True\"]))"
   ]
  },
  {
   "cell_type": "markdown",
   "metadata": {
    "id": "bh1sObxtQJjk"
   },
   "source": [
    "##### Step 6: Predict on a new tweet"
   ]
  },
  {
   "cell_type": "code",
   "execution_count": null,
   "metadata": {
    "executionInfo": {
     "elapsed": 3,
     "status": "ok",
     "timestamp": 1745573283877,
     "user": {
      "displayName": "Elias Christmas",
      "userId": "05020824668584987002"
     },
     "user_tz": -120
    },
    "id": "-61kBy69QI9B"
   },
   "outputs": [],
   "source": [
    "def predict(tweet):\n",
    "    model.eval()\n",
    "    with torch.no_grad():\n",
    "        inputs = tokenizer(tweet, return_tensors=\"pt\", truncation=True, padding=True, max_length=128).to(device)\n",
    "        outputs = model(**inputs)\n",
    "        logits = outputs.logits\n",
    "        predicted_class = torch.argmax(logits, dim=1).item()\n",
    "        return \"True\" if predicted_class == 1 else \"False\"\n"
   ]
  },
  {
   "cell_type": "code",
   "execution_count": null,
   "metadata": {},
   "outputs": [
    {
     "name": "stdout",
     "output_type": "stream",
     "text": [
      "Accuracy: 0.9424\n",
      "Precision: 0.9867\n",
      "Recall: 0.8997\n",
      "F1-Score: 0.9412\n",
      "\n",
      "Classification Report:\n",
      "              precision    recall  f1-score   support\n",
      "\n",
      "        Fake       0.90      0.99      0.94       626\n",
      "        True       0.99      0.90      0.94       658\n",
      "\n",
      "    accuracy                           0.94      1284\n",
      "   macro avg       0.95      0.94      0.94      1284\n",
      "weighted avg       0.95      0.94      0.94      1284\n",
      "\n"
     ]
    }
   ],
   "source": [
    "from sklearn.metrics import accuracy_score, precision_score, recall_score, f1_score, classification_report\n",
    "\n",
    "true_labels = []\n",
    "predicted_labels = []\n",
    "\n",
    "model.eval()\n",
    "with torch.no_grad():\n",
    "    for batch in val_loader:\n",
    "        input_ids, attention_mask, labels = [x.to(device) for x in batch]\n",
    "        outputs = model(input_ids=input_ids, attention_mask=attention_mask)\n",
    "        logits = outputs.logits\n",
    "        preds = torch.argmax(logits, dim=1)\n",
    "\n",
    "        predicted_labels.extend(preds.cpu().numpy())\n",
    "        true_labels.extend(labels.cpu().numpy())\n",
    "\n",
    "# Calculate metrics\n",
    "accuracy = accuracy_score(true_labels, predicted_labels)\n",
    "precision = precision_score(true_labels, predicted_labels, average='binary')\n",
    "recall = recall_score(true_labels, predicted_labels, average='binary')\n",
    "f1 = f1_score(true_labels, predicted_labels, average='binary')\n",
    "\n",
    "print(f\"Accuracy: {accuracy:.4f}\")\n",
    "print(f\"Precision: {precision:.4f}\")\n",
    "print(f\"Recall: {recall:.4f}\")\n",
    "print(f\"F1-Score: {f1:.4f}\")\n",
    "\n",
    "# Optional: Full classification report\n",
    "print(\"\\nClassification Report:\")\n",
    "print(classification_report(true_labels, predicted_labels, target_names=[\"Fake\", \"True\"]))"
   ]
  },
  {
   "cell_type": "markdown",
   "metadata": {},
   "source": [
    "Predicting on a false tweet"
   ]
  },
  {
   "cell_type": "code",
   "execution_count": null,
   "metadata": {
    "colab": {
     "base_uri": "https://localhost:8080/"
    },
    "executionInfo": {
     "elapsed": 17,
     "status": "ok",
     "timestamp": 1745573285667,
     "user": {
      "displayName": "Elias Christmas",
      "userId": "05020824668584987002"
     },
     "user_tz": -120
    },
    "id": "9z4eGpmRQbU5",
    "outputId": "328d8d08-03de-42a6-f1d2-4eefa37a6c5b"
   },
   "outputs": [
    {
     "name": "stdout",
     "output_type": "stream",
     "text": [
      "Prediction: False\n"
     ]
    }
   ],
   "source": [
    "example_tweet = \"Breaking news: Chocolate can cure COVID!\"\n",
    "result = predict(example_tweet)\n",
    "print(f\"Prediction: {result}\")\n"
   ]
  },
  {
   "cell_type": "markdown",
   "metadata": {},
   "source": [
    "Predicting on a factual tweet"
   ]
  },
  {
   "cell_type": "code",
   "execution_count": null,
   "metadata": {
    "colab": {
     "base_uri": "https://localhost:8080/"
    },
    "executionInfo": {
     "elapsed": 14,
     "status": "ok",
     "timestamp": 1745573287134,
     "user": {
      "displayName": "Elias Christmas",
      "userId": "05020824668584987002"
     },
     "user_tz": -120
    },
    "id": "yyRGOk6pQlEs",
    "outputId": "fe1ea81e-ab63-41e8-d11f-e8ddbaa61585"
   },
   "outputs": [
    {
     "name": "stdout",
     "output_type": "stream",
     "text": [
      "Prediction: False\n"
     ]
    }
   ],
   "source": [
    "factual_tweet = \"The COVID-19 vaccine helps reduce the severity of symptoms and the risk of hospitalization.\"\n",
    "result = predict(factual_tweet)\n",
    "print(f\"Prediction: {result}\")\n"
   ]
  },
  {
   "cell_type": "markdown",
   "metadata": {},
   "source": [
    "### Interactive Gradio App"
   ]
  },
  {
   "cell_type": "code",
   "execution_count": null,
   "metadata": {},
   "outputs": [
    {
     "name": "stdout",
     "output_type": "stream",
     "text": [
      "* Running on local URL:  http://127.0.0.1:7860\n",
      "\n",
      "Could not create share link. Missing file: C:\\Users\\elias\\.cache\\huggingface\\gradio\\frpc\\frpc_windows_amd64_v0.3. \n",
      "\n",
      "Please check your internet connection. This can happen if your antivirus software blocks the download of this file. You can install manually by following these steps: \n",
      "\n",
      "1. Download this file: https://cdn-media.huggingface.co/frpc-gradio-0.3/frpc_windows_amd64.exe\n",
      "2. Rename the downloaded file to: frpc_windows_amd64_v0.3\n",
      "3. Move the file to this location: C:\\Users\\elias\\.cache\\huggingface\\gradio\\frpc\n"
     ]
    },
    {
     "data": {
      "text/html": [
       "<div><iframe src=\"http://127.0.0.1:7860/\" width=\"100%\" height=\"500\" allow=\"autoplay; camera; microphone; clipboard-read; clipboard-write;\" frameborder=\"0\" allowfullscreen></iframe></div>"
      ],
      "text/plain": [
       "<IPython.core.display.HTML object>"
      ]
     },
     "metadata": {},
     "output_type": "display_data"
    },
    {
     "data": {
      "text/plain": []
     },
     "execution_count": 12,
     "metadata": {},
     "output_type": "execute_result"
    },
    {
     "name": "stdout",
     "output_type": "stream",
     "text": [
      "Created dataset file at: .gradio\\flagged\\dataset1.csv\n"
     ]
    }
   ],
   "source": [
    "import gradio as gr\n",
    "\n",
    "iface = gr.Interface(\n",
    "    fn=predict,\n",
    "    inputs=gr.Textbox(lines=2, placeholder=\"Type your tweet here...\"),\n",
    "    outputs=\"text\",\n",
    "    title=\"Fake news Predictor\",\n",
    "    description=\"Enter a tweet and let the model classify it as factual or fake\"\n",
    ")\n",
    "\n",
    "iface.launch(share=True)"
   ]
  }
 ],
 "metadata": {
  "colab": {
   "authorship_tag": "ABX9TyPy4nlYYZJlHhoIYmB+FVgJ",
   "machine_shape": "hm",
   "provenance": []
  },
  "kernelspec": {
   "display_name": "Python 3",
   "language": "python",
   "name": "python3"
  },
  "language_info": {
   "codemirror_mode": {
    "name": "ipython",
    "version": 3
   },
   "file_extension": ".py",
   "mimetype": "text/x-python",
   "name": "python",
   "nbconvert_exporter": "python",
   "pygments_lexer": "ipython3",
   "version": "3.11.5"
  },
  "widgets": {
   "application/vnd.jupyter.widget-state+json": {
    "0323dc2779054d8a9ab4e9e0aa7076c3": {
     "model_module": "@jupyter-widgets/controls",
     "model_module_version": "1.5.0",
     "model_name": "HBoxModel",
     "state": {
      "_dom_classes": [],
      "_model_module": "@jupyter-widgets/controls",
      "_model_module_version": "1.5.0",
      "_model_name": "HBoxModel",
      "_view_count": null,
      "_view_module": "@jupyter-widgets/controls",
      "_view_module_version": "1.5.0",
      "_view_name": "HBoxView",
      "box_style": "",
      "children": [
       "IPY_MODEL_3b3c34734fc7438696c390f42025926d",
       "IPY_MODEL_f66ef9e968284570a091a44e1bec4f1b",
       "IPY_MODEL_caca60bb0bc64f7bba28b59a35c16ac0"
      ],
      "layout": "IPY_MODEL_2a506eea84d44b5fbc4bdf56f0174811"
     }
    },
    "2a506eea84d44b5fbc4bdf56f0174811": {
     "model_module": "@jupyter-widgets/base",
     "model_module_version": "1.2.0",
     "model_name": "LayoutModel",
     "state": {
      "_model_module": "@jupyter-widgets/base",
      "_model_module_version": "1.2.0",
      "_model_name": "LayoutModel",
      "_view_count": null,
      "_view_module": "@jupyter-widgets/base",
      "_view_module_version": "1.2.0",
      "_view_name": "LayoutView",
      "align_content": null,
      "align_items": null,
      "align_self": null,
      "border": null,
      "bottom": null,
      "display": null,
      "flex": null,
      "flex_flow": null,
      "grid_area": null,
      "grid_auto_columns": null,
      "grid_auto_flow": null,
      "grid_auto_rows": null,
      "grid_column": null,
      "grid_gap": null,
      "grid_row": null,
      "grid_template_areas": null,
      "grid_template_columns": null,
      "grid_template_rows": null,
      "height": null,
      "justify_content": null,
      "justify_items": null,
      "left": null,
      "margin": null,
      "max_height": null,
      "max_width": null,
      "min_height": null,
      "min_width": null,
      "object_fit": null,
      "object_position": null,
      "order": null,
      "overflow": null,
      "overflow_x": null,
      "overflow_y": null,
      "padding": null,
      "right": null,
      "top": null,
      "visibility": null,
      "width": null
     }
    },
    "39c72947b3ba4385aa4eb4656d6fb4d0": {
     "model_module": "@jupyter-widgets/controls",
     "model_module_version": "1.5.0",
     "model_name": "DescriptionStyleModel",
     "state": {
      "_model_module": "@jupyter-widgets/controls",
      "_model_module_version": "1.5.0",
      "_model_name": "DescriptionStyleModel",
      "_view_count": null,
      "_view_module": "@jupyter-widgets/base",
      "_view_module_version": "1.2.0",
      "_view_name": "StyleView",
      "description_width": ""
     }
    },
    "3b3c34734fc7438696c390f42025926d": {
     "model_module": "@jupyter-widgets/controls",
     "model_module_version": "1.5.0",
     "model_name": "HTMLModel",
     "state": {
      "_dom_classes": [],
      "_model_module": "@jupyter-widgets/controls",
      "_model_module_version": "1.5.0",
      "_model_name": "HTMLModel",
      "_view_count": null,
      "_view_module": "@jupyter-widgets/controls",
      "_view_module_version": "1.5.0",
      "_view_name": "HTMLView",
      "description": "",
      "description_tooltip": null,
      "layout": "IPY_MODEL_e01f95c65fc24ff3806df45dc3c15803",
      "placeholder": "​",
      "style": "IPY_MODEL_39c72947b3ba4385aa4eb4656d6fb4d0",
      "value": "model.safetensors: 100%"
     }
    },
    "5b73fe905e79467d9ec5f9be612c3480": {
     "model_module": "@jupyter-widgets/controls",
     "model_module_version": "1.5.0",
     "model_name": "ProgressStyleModel",
     "state": {
      "_model_module": "@jupyter-widgets/controls",
      "_model_module_version": "1.5.0",
      "_model_name": "ProgressStyleModel",
      "_view_count": null,
      "_view_module": "@jupyter-widgets/base",
      "_view_module_version": "1.2.0",
      "_view_name": "StyleView",
      "bar_color": null,
      "description_width": ""
     }
    },
    "b2cd2fc7f6d743bdb00df0668e9d91e4": {
     "model_module": "@jupyter-widgets/controls",
     "model_module_version": "1.5.0",
     "model_name": "DescriptionStyleModel",
     "state": {
      "_model_module": "@jupyter-widgets/controls",
      "_model_module_version": "1.5.0",
      "_model_name": "DescriptionStyleModel",
      "_view_count": null,
      "_view_module": "@jupyter-widgets/base",
      "_view_module_version": "1.2.0",
      "_view_name": "StyleView",
      "description_width": ""
     }
    },
    "caca60bb0bc64f7bba28b59a35c16ac0": {
     "model_module": "@jupyter-widgets/controls",
     "model_module_version": "1.5.0",
     "model_name": "HTMLModel",
     "state": {
      "_dom_classes": [],
      "_model_module": "@jupyter-widgets/controls",
      "_model_module_version": "1.5.0",
      "_model_name": "HTMLModel",
      "_view_count": null,
      "_view_module": "@jupyter-widgets/controls",
      "_view_module_version": "1.5.0",
      "_view_name": "HTMLView",
      "description": "",
      "description_tooltip": null,
      "layout": "IPY_MODEL_f525452fa6c9402a99910f3981c33f08",
      "placeholder": "​",
      "style": "IPY_MODEL_b2cd2fc7f6d743bdb00df0668e9d91e4",
      "value": " 440M/440M [00:01&lt;00:00, 275MB/s]"
     }
    },
    "cd947bea1c8a4f4db09393c6c948affe": {
     "model_module": "@jupyter-widgets/base",
     "model_module_version": "1.2.0",
     "model_name": "LayoutModel",
     "state": {
      "_model_module": "@jupyter-widgets/base",
      "_model_module_version": "1.2.0",
      "_model_name": "LayoutModel",
      "_view_count": null,
      "_view_module": "@jupyter-widgets/base",
      "_view_module_version": "1.2.0",
      "_view_name": "LayoutView",
      "align_content": null,
      "align_items": null,
      "align_self": null,
      "border": null,
      "bottom": null,
      "display": null,
      "flex": null,
      "flex_flow": null,
      "grid_area": null,
      "grid_auto_columns": null,
      "grid_auto_flow": null,
      "grid_auto_rows": null,
      "grid_column": null,
      "grid_gap": null,
      "grid_row": null,
      "grid_template_areas": null,
      "grid_template_columns": null,
      "grid_template_rows": null,
      "height": null,
      "justify_content": null,
      "justify_items": null,
      "left": null,
      "margin": null,
      "max_height": null,
      "max_width": null,
      "min_height": null,
      "min_width": null,
      "object_fit": null,
      "object_position": null,
      "order": null,
      "overflow": null,
      "overflow_x": null,
      "overflow_y": null,
      "padding": null,
      "right": null,
      "top": null,
      "visibility": null,
      "width": null
     }
    },
    "e01f95c65fc24ff3806df45dc3c15803": {
     "model_module": "@jupyter-widgets/base",
     "model_module_version": "1.2.0",
     "model_name": "LayoutModel",
     "state": {
      "_model_module": "@jupyter-widgets/base",
      "_model_module_version": "1.2.0",
      "_model_name": "LayoutModel",
      "_view_count": null,
      "_view_module": "@jupyter-widgets/base",
      "_view_module_version": "1.2.0",
      "_view_name": "LayoutView",
      "align_content": null,
      "align_items": null,
      "align_self": null,
      "border": null,
      "bottom": null,
      "display": null,
      "flex": null,
      "flex_flow": null,
      "grid_area": null,
      "grid_auto_columns": null,
      "grid_auto_flow": null,
      "grid_auto_rows": null,
      "grid_column": null,
      "grid_gap": null,
      "grid_row": null,
      "grid_template_areas": null,
      "grid_template_columns": null,
      "grid_template_rows": null,
      "height": null,
      "justify_content": null,
      "justify_items": null,
      "left": null,
      "margin": null,
      "max_height": null,
      "max_width": null,
      "min_height": null,
      "min_width": null,
      "object_fit": null,
      "object_position": null,
      "order": null,
      "overflow": null,
      "overflow_x": null,
      "overflow_y": null,
      "padding": null,
      "right": null,
      "top": null,
      "visibility": null,
      "width": null
     }
    },
    "f525452fa6c9402a99910f3981c33f08": {
     "model_module": "@jupyter-widgets/base",
     "model_module_version": "1.2.0",
     "model_name": "LayoutModel",
     "state": {
      "_model_module": "@jupyter-widgets/base",
      "_model_module_version": "1.2.0",
      "_model_name": "LayoutModel",
      "_view_count": null,
      "_view_module": "@jupyter-widgets/base",
      "_view_module_version": "1.2.0",
      "_view_name": "LayoutView",
      "align_content": null,
      "align_items": null,
      "align_self": null,
      "border": null,
      "bottom": null,
      "display": null,
      "flex": null,
      "flex_flow": null,
      "grid_area": null,
      "grid_auto_columns": null,
      "grid_auto_flow": null,
      "grid_auto_rows": null,
      "grid_column": null,
      "grid_gap": null,
      "grid_row": null,
      "grid_template_areas": null,
      "grid_template_columns": null,
      "grid_template_rows": null,
      "height": null,
      "justify_content": null,
      "justify_items": null,
      "left": null,
      "margin": null,
      "max_height": null,
      "max_width": null,
      "min_height": null,
      "min_width": null,
      "object_fit": null,
      "object_position": null,
      "order": null,
      "overflow": null,
      "overflow_x": null,
      "overflow_y": null,
      "padding": null,
      "right": null,
      "top": null,
      "visibility": null,
      "width": null
     }
    },
    "f66ef9e968284570a091a44e1bec4f1b": {
     "model_module": "@jupyter-widgets/controls",
     "model_module_version": "1.5.0",
     "model_name": "FloatProgressModel",
     "state": {
      "_dom_classes": [],
      "_model_module": "@jupyter-widgets/controls",
      "_model_module_version": "1.5.0",
      "_model_name": "FloatProgressModel",
      "_view_count": null,
      "_view_module": "@jupyter-widgets/controls",
      "_view_module_version": "1.5.0",
      "_view_name": "ProgressView",
      "bar_style": "success",
      "description": "",
      "description_tooltip": null,
      "layout": "IPY_MODEL_cd947bea1c8a4f4db09393c6c948affe",
      "max": 440449768,
      "min": 0,
      "orientation": "horizontal",
      "style": "IPY_MODEL_5b73fe905e79467d9ec5f9be612c3480",
      "value": 440449768
     }
    }
   }
  }
 },
 "nbformat": 4,
 "nbformat_minor": 0
}
